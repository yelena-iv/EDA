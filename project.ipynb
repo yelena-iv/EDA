{
 "cells": [
  {
   "cell_type": "code",
   "execution_count": 10,
   "metadata": {},
   "outputs": [],
   "source": [
    "import pandas as pd\n",
    "import seaborn as sns\n",
    "%matplotlib inline\n"
   ]
  },
  {
   "cell_type": "code",
   "execution_count": 11,
   "metadata": {},
   "outputs": [],
   "source": [
    "df = pd.read_csv(\"train.csv\")"
   ]
  },
  {
   "cell_type": "code",
   "execution_count": 12,
   "metadata": {},
   "outputs": [
    {
     "data": {
      "text/plain": [
       "(53845, 9)"
      ]
     },
     "execution_count": 12,
     "metadata": {},
     "output_type": "execute_result"
    }
   ],
   "source": [
    "df.shape"
   ]
  },
  {
   "cell_type": "code",
   "execution_count": 19,
   "metadata": {},
   "outputs": [],
   "source": [
    "df.head()\n",
    "\n",
    "df = df.drop(columns=['Reporting Agency', 'Cause', 'Subcause', 'Status'])"
   ]
  },
  {
   "cell_type": "code",
   "execution_count": 20,
   "metadata": {},
   "outputs": [],
   "source": [
    "df = df.rename(columns={\n",
    "    \"EventId\":\"id\",\n",
    "    \"Occurrence Local Date Time\":\"datetime\"})"
   ]
  },
  {
   "cell_type": "code",
   "execution_count": 21,
   "metadata": {},
   "outputs": [
    {
     "data": {
      "text/html": [
       "<div>\n",
       "<style scoped>\n",
       "    .dataframe tbody tr th:only-of-type {\n",
       "        vertical-align: middle;\n",
       "    }\n",
       "\n",
       "    .dataframe tbody tr th {\n",
       "        vertical-align: top;\n",
       "    }\n",
       "\n",
       "    .dataframe thead th {\n",
       "        text-align: right;\n",
       "    }\n",
       "</style>\n",
       "<table border=\"1\" class=\"dataframe\">\n",
       "  <thead>\n",
       "    <tr style=\"text-align: right;\">\n",
       "      <th></th>\n",
       "      <th>id</th>\n",
       "      <th>datetime</th>\n",
       "      <th>longitude</th>\n",
       "      <th>latitude</th>\n",
       "      <th>road_segment_id</th>\n",
       "    </tr>\n",
       "  </thead>\n",
       "  <tbody>\n",
       "    <tr>\n",
       "      <th>0</th>\n",
       "      <td>60558</td>\n",
       "      <td>01/01/16 00:53</td>\n",
       "      <td>18.5408955032</td>\n",
       "      <td>-33.888275</td>\n",
       "      <td>S0B3CGQ</td>\n",
       "    </tr>\n",
       "    <tr>\n",
       "      <th>1</th>\n",
       "      <td>60559</td>\n",
       "      <td>01/01/16 00:54</td>\n",
       "      <td>18.9307563219</td>\n",
       "      <td>-34.140857</td>\n",
       "      <td>RYJYAPI</td>\n",
       "    </tr>\n",
       "    <tr>\n",
       "      <th>2</th>\n",
       "      <td>60560</td>\n",
       "      <td>01/01/16 02:26</td>\n",
       "      <td>18.5533575029</td>\n",
       "      <td>-33.959154</td>\n",
       "      <td>U3KP57C</td>\n",
       "    </tr>\n",
       "    <tr>\n",
       "      <th>3</th>\n",
       "      <td>60561</td>\n",
       "      <td>01/01/16 02:56</td>\n",
       "      <td>18.6775561589</td>\n",
       "      <td>-33.895258</td>\n",
       "      <td>RY0TRQ8</td>\n",
       "    </tr>\n",
       "    <tr>\n",
       "      <th>4</th>\n",
       "      <td>60562</td>\n",
       "      <td>01/01/16 03:40</td>\n",
       "      <td>18.8371319682</td>\n",
       "      <td>-34.087051</td>\n",
       "      <td>8LOVJZ3</td>\n",
       "    </tr>\n",
       "  </tbody>\n",
       "</table>\n",
       "</div>"
      ],
      "text/plain": [
       "      id        datetime      longitude   latitude road_segment_id\n",
       "0  60558  01/01/16 00:53  18.5408955032 -33.888275         S0B3CGQ\n",
       "1  60559  01/01/16 00:54  18.9307563219 -34.140857         RYJYAPI\n",
       "2  60560  01/01/16 02:26  18.5533575029 -33.959154         U3KP57C\n",
       "3  60561  01/01/16 02:56  18.6775561589 -33.895258         RY0TRQ8\n",
       "4  60562  01/01/16 03:40  18.8371319682 -34.087051         8LOVJZ3"
      ]
     },
     "execution_count": 21,
     "metadata": {},
     "output_type": "execute_result"
    }
   ],
   "source": [
    "df.head()"
   ]
  },
  {
   "cell_type": "code",
   "execution_count": 28,
   "metadata": {},
   "outputs": [
    {
     "data": {
      "text/plain": [
       "id                   int64\n",
       "datetime            object\n",
       "longitude           object\n",
       "latitude           float64\n",
       "road_segment_id     object\n",
       "dtype: object"
      ]
     },
     "execution_count": 28,
     "metadata": {},
     "output_type": "execute_result"
    }
   ],
   "source": [
    "df.dtypes"
   ]
  },
  {
   "cell_type": "code",
   "execution_count": 31,
   "metadata": {},
   "outputs": [
    {
     "data": {
      "text/plain": [
       "0       2016-01-01 00:53:00\n",
       "1       2016-01-01 00:54:00\n",
       "2       2016-01-01 02:26:00\n",
       "3       2016-01-01 02:56:00\n",
       "4       2016-01-01 03:40:00\n",
       "                ...        \n",
       "53840   2018-12-31 21:14:00\n",
       "53841   2018-12-31 21:33:00\n",
       "53842   2018-12-31 22:01:00\n",
       "53843   2018-12-31 22:12:00\n",
       "53844   2018-12-31 23:45:00\n",
       "Name: datetime, Length: 53845, dtype: datetime64[ns]"
      ]
     },
     "execution_count": 31,
     "metadata": {},
     "output_type": "execute_result"
    }
   ],
   "source": [
    "pd.to_datetime(df.datetime)"
   ]
  },
  {
   "cell_type": "code",
   "execution_count": 32,
   "metadata": {},
   "outputs": [
    {
     "data": {
      "text/plain": [
       "0        18.540896\n",
       "1        18.930756\n",
       "2        18.553358\n",
       "3        18.677556\n",
       "4        18.837132\n",
       "           ...    \n",
       "53840    18.601735\n",
       "53841    18.576595\n",
       "53842    18.658576\n",
       "53843    18.625080\n",
       "53844    18.652948\n",
       "Name: longitude, Length: 53845, dtype: float64"
      ]
     },
     "execution_count": 32,
     "metadata": {},
     "output_type": "execute_result"
    }
   ],
   "source": [
    "pd.to_numeric(df.longitude, errors='coerce')"
   ]
  },
  {
   "cell_type": "code",
   "execution_count": 33,
   "metadata": {},
   "outputs": [
    {
     "data": {
      "text/html": [
       "<div>\n",
       "<style scoped>\n",
       "    .dataframe tbody tr th:only-of-type {\n",
       "        vertical-align: middle;\n",
       "    }\n",
       "\n",
       "    .dataframe tbody tr th {\n",
       "        vertical-align: top;\n",
       "    }\n",
       "\n",
       "    .dataframe thead th {\n",
       "        text-align: right;\n",
       "    }\n",
       "</style>\n",
       "<table border=\"1\" class=\"dataframe\">\n",
       "  <thead>\n",
       "    <tr style=\"text-align: right;\">\n",
       "      <th></th>\n",
       "      <th>id</th>\n",
       "      <th>datetime</th>\n",
       "      <th>longitude</th>\n",
       "      <th>latitude</th>\n",
       "      <th>road_segment_id</th>\n",
       "    </tr>\n",
       "  </thead>\n",
       "  <tbody>\n",
       "    <tr>\n",
       "      <th>0</th>\n",
       "      <td>60558</td>\n",
       "      <td>01/01/16 00:53</td>\n",
       "      <td>18.5408955032</td>\n",
       "      <td>-33.888275</td>\n",
       "      <td>S0B3CGQ</td>\n",
       "    </tr>\n",
       "    <tr>\n",
       "      <th>1</th>\n",
       "      <td>60559</td>\n",
       "      <td>01/01/16 00:54</td>\n",
       "      <td>18.9307563219</td>\n",
       "      <td>-34.140857</td>\n",
       "      <td>RYJYAPI</td>\n",
       "    </tr>\n",
       "    <tr>\n",
       "      <th>2</th>\n",
       "      <td>60560</td>\n",
       "      <td>01/01/16 02:26</td>\n",
       "      <td>18.5533575029</td>\n",
       "      <td>-33.959154</td>\n",
       "      <td>U3KP57C</td>\n",
       "    </tr>\n",
       "    <tr>\n",
       "      <th>3</th>\n",
       "      <td>60561</td>\n",
       "      <td>01/01/16 02:56</td>\n",
       "      <td>18.6775561589</td>\n",
       "      <td>-33.895258</td>\n",
       "      <td>RY0TRQ8</td>\n",
       "    </tr>\n",
       "    <tr>\n",
       "      <th>4</th>\n",
       "      <td>60562</td>\n",
       "      <td>01/01/16 03:40</td>\n",
       "      <td>18.8371319682</td>\n",
       "      <td>-34.087051</td>\n",
       "      <td>8LOVJZ3</td>\n",
       "    </tr>\n",
       "  </tbody>\n",
       "</table>\n",
       "</div>"
      ],
      "text/plain": [
       "      id        datetime      longitude   latitude road_segment_id\n",
       "0  60558  01/01/16 00:53  18.5408955032 -33.888275         S0B3CGQ\n",
       "1  60559  01/01/16 00:54  18.9307563219 -34.140857         RYJYAPI\n",
       "2  60560  01/01/16 02:26  18.5533575029 -33.959154         U3KP57C\n",
       "3  60561  01/01/16 02:56  18.6775561589 -33.895258         RY0TRQ8\n",
       "4  60562  01/01/16 03:40  18.8371319682 -34.087051         8LOVJZ3"
      ]
     },
     "execution_count": 33,
     "metadata": {},
     "output_type": "execute_result"
    }
   ],
   "source": [
    "df.head()"
   ]
  },
  {
   "cell_type": "markdown",
   "metadata": {},
   "source": [
    "* id (int)\n",
    "* datetime (datetime)\n",
    "* longitude (float)\n",
    "* latitude (float)\n",
    "* road_segment_id (categorical)"
   ]
  },
  {
   "cell_type": "code",
   "execution_count": 11,
   "metadata": {},
   "outputs": [],
   "source": [
    "from scipy import stats\n",
    "import numpy as np\n",
    "import pandas as pd\n",
    "import seaborn as sns\n",
    "sns.set(rc={'figure.figsize':(6,6)}) #Set our seaborn aesthetics (we're going to customize our figure size)\n",
    "\n",
    "#Sometimes pandas gives us a lot of warnings, for the sake of simplicity, let's ignore them for this class\n",
    "import warnings\n",
    "warnings.filterwarnings(\"ignore\")"
   ]
  },
  {
   "cell_type": "code",
   "execution_count": 56,
   "metadata": {},
   "outputs": [
    {
     "data": {
      "text/plain": [
       "(53845, 5)"
      ]
     },
     "execution_count": 56,
     "metadata": {},
     "output_type": "execute_result"
    }
   ],
   "source": [
    "df.shape"
   ]
  },
  {
   "cell_type": "code",
   "execution_count": 58,
   "metadata": {},
   "outputs": [
    {
     "data": {
      "text/plain": [
       "549"
      ]
     },
     "execution_count": 58,
     "metadata": {},
     "output_type": "execute_result"
    }
   ],
   "source": [
    "df.road_segment_id.nunique()"
   ]
  },
  {
   "cell_type": "markdown",
   "metadata": {},
   "source": [
    "There are 549 unique road segments where an accident has occurred.\n"
   ]
  },
  {
   "cell_type": "code",
   "execution_count": 18,
   "metadata": {},
   "outputs": [],
   "source": [
    "import geopandas as gpd\n",
    "import fiona"
   ]
  },
  {
   "cell_type": "code",
   "execution_count": 25,
   "metadata": {},
   "outputs": [
    {
     "data": {
      "text/html": [
       "<div>\n",
       "<style scoped>\n",
       "    .dataframe tbody tr th:only-of-type {\n",
       "        vertical-align: middle;\n",
       "    }\n",
       "\n",
       "    .dataframe tbody tr th {\n",
       "        vertical-align: top;\n",
       "    }\n",
       "\n",
       "    .dataframe thead th {\n",
       "        text-align: right;\n",
       "    }\n",
       "</style>\n",
       "<table border=\"1\" class=\"dataframe\">\n",
       "  <thead>\n",
       "    <tr style=\"text-align: right;\">\n",
       "      <th></th>\n",
       "      <th>ROADNO</th>\n",
       "      <th>CLASS</th>\n",
       "      <th>REGION</th>\n",
       "      <th>WIDTH</th>\n",
       "      <th>LANES</th>\n",
       "      <th>SURFTYPE</th>\n",
       "      <th>PAVETYPE</th>\n",
       "      <th>CONDITION</th>\n",
       "      <th>length_1</th>\n",
       "      <th>segment_id</th>\n",
       "      <th>geometry</th>\n",
       "    </tr>\n",
       "  </thead>\n",
       "  <tbody>\n",
       "    <tr>\n",
       "      <th>0</th>\n",
       "      <td>R300</td>\n",
       "      <td>Primary</td>\n",
       "      <td>Western Cape</td>\n",
       "      <td>20.2</td>\n",
       "      <td>2</td>\n",
       "      <td>Paved</td>\n",
       "      <td>FLEX</td>\n",
       "      <td>Good</td>\n",
       "      <td>471.207</td>\n",
       "      <td>D1U6OOF</td>\n",
       "      <td>LINESTRING (18.65262 -33.97724, 18.65264 -33.9...</td>\n",
       "    </tr>\n",
       "    <tr>\n",
       "      <th>1</th>\n",
       "      <td>R300</td>\n",
       "      <td>Primary</td>\n",
       "      <td>Western Cape</td>\n",
       "      <td>20.2</td>\n",
       "      <td>2</td>\n",
       "      <td>Paved</td>\n",
       "      <td>FLEX</td>\n",
       "      <td>Good</td>\n",
       "      <td>471.207</td>\n",
       "      <td>NG4X2MD</td>\n",
       "      <td>LINESTRING (18.65347 -33.97309, 18.65347 -33.9...</td>\n",
       "    </tr>\n",
       "    <tr>\n",
       "      <th>2</th>\n",
       "      <td>R300</td>\n",
       "      <td>Primary</td>\n",
       "      <td>Western Cape</td>\n",
       "      <td>20.2</td>\n",
       "      <td>2</td>\n",
       "      <td>Paved</td>\n",
       "      <td>FLEX</td>\n",
       "      <td>Good</td>\n",
       "      <td>471.207</td>\n",
       "      <td>792705Z</td>\n",
       "      <td>LINESTRING (18.65431 -33.96894, 18.65432 -33.9...</td>\n",
       "    </tr>\n",
       "    <tr>\n",
       "      <th>3</th>\n",
       "      <td>R300</td>\n",
       "      <td>Primary</td>\n",
       "      <td>Western Cape</td>\n",
       "      <td>20.2</td>\n",
       "      <td>2</td>\n",
       "      <td>Paved</td>\n",
       "      <td>FLEX</td>\n",
       "      <td>Good</td>\n",
       "      <td>471.207</td>\n",
       "      <td>IK67XHB</td>\n",
       "      <td>LINESTRING (18.65515 -33.96480, 18.65517 -33.9...</td>\n",
       "    </tr>\n",
       "    <tr>\n",
       "      <th>4</th>\n",
       "      <td>R300</td>\n",
       "      <td>Primary</td>\n",
       "      <td>Western Cape</td>\n",
       "      <td>20.2</td>\n",
       "      <td>2</td>\n",
       "      <td>Paved</td>\n",
       "      <td>FLEX</td>\n",
       "      <td>Good</td>\n",
       "      <td>471.207</td>\n",
       "      <td>OWCF2MH</td>\n",
       "      <td>LINESTRING (18.65600 -33.96065, 18.65602 -33.9...</td>\n",
       "    </tr>\n",
       "  </tbody>\n",
       "</table>\n",
       "</div>"
      ],
      "text/plain": [
       "  ROADNO    CLASS        REGION  WIDTH  LANES SURFTYPE PAVETYPE CONDITION  \\\n",
       "0   R300  Primary  Western Cape   20.2      2    Paved     FLEX      Good   \n",
       "1   R300  Primary  Western Cape   20.2      2    Paved     FLEX      Good   \n",
       "2   R300  Primary  Western Cape   20.2      2    Paved     FLEX      Good   \n",
       "3   R300  Primary  Western Cape   20.2      2    Paved     FLEX      Good   \n",
       "4   R300  Primary  Western Cape   20.2      2    Paved     FLEX      Good   \n",
       "\n",
       "   length_1 segment_id                                           geometry  \n",
       "0   471.207    D1U6OOF  LINESTRING (18.65262 -33.97724, 18.65264 -33.9...  \n",
       "1   471.207    NG4X2MD  LINESTRING (18.65347 -33.97309, 18.65347 -33.9...  \n",
       "2   471.207    792705Z  LINESTRING (18.65431 -33.96894, 18.65432 -33.9...  \n",
       "3   471.207    IK67XHB  LINESTRING (18.65515 -33.96480, 18.65517 -33.9...  \n",
       "4   471.207    OWCF2MH  LINESTRING (18.65600 -33.96065, 18.65602 -33.9...  "
      ]
     },
     "execution_count": 25,
     "metadata": {},
     "output_type": "execute_result"
    }
   ],
   "source": [
    "road = gpd.read_file(\"road_segments\")\n",
    "road.head()"
   ]
  },
  {
   "cell_type": "code",
   "execution_count": 26,
   "metadata": {},
   "outputs": [
    {
     "data": {
      "text/plain": [
       "<matplotlib.axes._subplots.AxesSubplot at 0x7f978212c9d0>"
      ]
     },
     "execution_count": 26,
     "metadata": {},
     "output_type": "execute_result"
    },
    {
     "data": {
      "image/png": "[encoded data removed]",
      "text/plain": [
       "<Figure size 432x432 with 1 Axes>"
      ]
     },
     "metadata": {},
     "output_type": "display_data"
    }
   ],
   "source": [
    "road.plot()"
   ]
  },
  {
   "cell_type": "code",
   "execution_count": null,
   "metadata": {},
   "outputs": [],
   "source": []
  },
  {
   "cell_type": "code",
   "execution_count": null,
   "metadata": {},
   "outputs": [],
   "source": []
  },
  {
   "cell_type": "code",
   "execution_count": null,
   "metadata": {},
   "outputs": [],
   "source": []
  },
  {
   "cell_type": "code",
   "execution_count": null,
   "metadata": {},
   "outputs": [],
   "source": []
  },
  {
   "cell_type": "code",
   "execution_count": null,
   "metadata": {},
   "outputs": [],
   "source": []
  },
  {
   "cell_type": "code",
   "execution_count": null,
   "metadata": {},
   "outputs": [],
   "source": []
  },
  {
   "cell_type": "code",
   "execution_count": null,
   "metadata": {},
   "outputs": [],
   "source": []
  },
  {
   "cell_type": "code",
   "execution_count": null,
   "metadata": {},
   "outputs": [],
   "source": []
  },
  {
   "cell_type": "code",
   "execution_count": null,
   "metadata": {},
   "outputs": [],
   "source": []
  },
  {
   "cell_type": "code",
   "execution_count": null,
   "metadata": {},
   "outputs": [],
   "source": []
  },
  {
   "cell_type": "code",
   "execution_count": null,
   "metadata": {},
   "outputs": [],
   "source": []
  },
  {
   "cell_type": "code",
   "execution_count": null,
   "metadata": {},
   "outputs": [],
   "source": []
  },
  {
   "cell_type": "code",
   "execution_count": null,
   "metadata": {},
   "outputs": [],
   "source": []
  },
  {
   "cell_type": "code",
   "execution_count": null,
   "metadata": {},
   "outputs": [],
   "source": []
  },
  {
   "cell_type": "code",
   "execution_count": null,
   "metadata": {},
   "outputs": [],
   "source": []
  },
  {
   "cell_type": "code",
   "execution_count": null,
   "metadata": {},
   "outputs": [],
   "source": []
  },
  {
   "cell_type": "code",
   "execution_count": null,
   "metadata": {},
   "outputs": [],
   "source": []
  }
 ],
 "metadata": {
  "kernelspec": {
   "display_name": "Python 3",
   "language": "python",
   "name": "python3"
  },
  "language_info": {
   "codemirror_mode": {
    "name": "ipython",
    "version": 3
   },
   "file_extension": ".py",
   "mimetype": "text/x-python",
   "name": "python",
   "nbconvert_exporter": "python",
   "pygments_lexer": "ipython3",
   "version": "3.7.6"
  }
 },
 "nbformat": 4,
 "nbformat_minor": 4
}
